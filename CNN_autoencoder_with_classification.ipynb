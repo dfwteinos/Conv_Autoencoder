{
  "nbformat": 4,
  "nbformat_minor": 0,
  "metadata": {
    "colab": {
      "name": "CNN-autoencoder-with-classification.ipynb",
      "provenance": [],
      "collapsed_sections": [],
      "toc_visible": true
    },
    "kernelspec": {
      "name": "python3",
      "display_name": "Python 3"
    },
    "accelerator": "GPU"
  },
  "cells": [
    {
      "cell_type": "markdown",
      "metadata": {
        "id": "bdcQigI-AUst"
      },
      "source": [
        "# Part A)\n",
        "Constructing a fully dense Convonutional Autoencoder"
      ]
    },
    {
      "cell_type": "markdown",
      "metadata": {
        "id": "7JhktJYRJy3g"
      },
      "source": [
        "## A.1: Useful Libraries and frameworks"
      ]
    },
    {
      "cell_type": "code",
      "metadata": {
        "colab": {
          "base_uri": "https://localhost:8080/"
        },
        "id": "K-G8PbjhJ6wr",
        "outputId": "54e40b87-e643-4914-fb61-8b754d63a175"
      },
      "source": [
        "from sklearn.model_selection import train_test_split                            #Sklearn\n",
        "\n",
        "import numpy as np                                                              #Numpy\n",
        "\n",
        "# !pip install idx2numpy                                                        #idx2numpy \n",
        "!pip install idx2numpy\n",
        "\n",
        "import idx2numpy                                                                #Convert dataset from terminal into an array: 60.000 x 28 x 28\n",
        "\n",
        "import keras                                                                    #Keras\n",
        "from keras.datasets import mnist                            \n",
        "from keras import layers\n",
        "from keras.layers import Dense, Dropout, Activation, Flatten, MaxPooling2D, UpSampling2D, BatchNormalization\n",
        "from keras.optimizers import RMSprop\n",
        "\n",
        "from tensorflow.keras.layers import Conv2D                                      #Tensorflow\n",
        "\n",
        "import matplotlib.pyplot as plt                                                 #Matplotlib\n"
      ],
      "execution_count": null,
      "outputs": [
        {
          "output_type": "stream",
          "text": [
            "Requirement already satisfied: idx2numpy in /usr/local/lib/python3.6/dist-packages (1.2.3)\n",
            "Requirement already satisfied: numpy in /usr/local/lib/python3.6/dist-packages (from idx2numpy) (1.18.5)\n",
            "Requirement already satisfied: six in /usr/local/lib/python3.6/dist-packages (from idx2numpy) (1.15.0)\n"
          ],
          "name": "stdout"
        }
      ]
    },
    {
      "cell_type": "markdown",
      "metadata": {
        "id": "hUTGvW3nJ8VN"
      },
      "source": [
        "## A.2: Functions"
      ]
    },
    {
      "cell_type": "code",
      "metadata": {
        "id": "-TMOnJuoKJhz"
      },
      "source": [
        "def split_dataset(dataset):\n",
        "\n",
        "  dataset = mnist_normalization(dataset)\n",
        "\n",
        "  x_train, x_valid, ground_train, ground_valid = train_test_split(dataset, dataset, test_size=0.2, random_state=42)\n",
        "  return x_train, x_valid, ground_train, ground_valid\n",
        "\n",
        "def mnist_normalization(dataset):                                               #Fom keras modules (colab)\n",
        "\n",
        "  dataset = dataset.astype('float32') / 255\n",
        "  # dataset = dataset.reshape((len(dataset), np.prod(dataset.shape[1:])))\n",
        "  return dataset\n",
        "\n",
        "def get_dataset(locationDataset):                                               #For dataset given from user (.py)\n",
        "\n",
        "  dataset = idx2numpy.convert_from_file(locationDataset)\n",
        "  return dataset\n",
        "  \n",
        "\n",
        "def get_mnistDataset():\n",
        "\n",
        "  (x_train, _), (x_test, _) = mnist.load_data()\n",
        "  return x_train\n",
        "\n",
        "def convLayerMaker(kernel_num, kernel_size, activation, padding, input):\n",
        "\n",
        "  conv = Conv2D(kernel_num, (kernel_size, kernel_size), activation=activation, padding=padding)(input)      #28 x 28 x 32\n",
        "  conv = BatchNormalization()(conv)\n",
        "  return conv\n",
        "\n",
        "def encoderA(input_img, conv_layers, kernel_size, kernel_num):\n",
        "  #encoder\n",
        "  #input = 28 x 28 x 1 (wide and thin)\n",
        "\n",
        "  for layer in range(conv_layers):\n",
        "\n",
        "    if(layer==0):\n",
        "      conv = convLayerMaker(kernel_num*1, kernel_size, 'relu', 'same', input_img )\n",
        "    \n",
        "    else:\n",
        "      if( (layer % 2) ==0 ):\n",
        "        \n",
        "        kernel_num = kernel_num*2\n",
        "\n",
        "        if(layer==2 or layer==4):\n",
        "          pool = MaxPooling2D(pool_size=(2, 2))(conv) #14 x 14 x 32\n",
        "          conv = convLayerMaker(kernel_num, kernel_size, 'relu', 'same', pool)\n",
        "\n",
        "        else:\n",
        "          conv = convLayerMaker(kernel_num, kernel_size, 'relu', 'same', conv)\n",
        "\n",
        "      else:\n",
        "        conv = convLayerMaker(kernel_num, kernel_size, 'relu', 'same', conv)\n",
        "    \n",
        "  return conv\n",
        "\n",
        "  # conv1 = Conv2D(32, (kernel_size, kernel_size), activation='relu', padding='same')(input_img)      #28 x 28 x 32\n",
        "  # conv1 = BatchNormalization()(conv1)\n",
        "  # conv1 = Conv2D(32, (kernel_size, kernel_size), activation='relu', padding='same')(conv1)\n",
        "  # conv1 = BatchNormalization()(conv1)\n",
        "\n",
        "  # pool1 = MaxPooling2D(pool_size=(2, 2))(conv1) #14 x 14 x 32\n",
        "\n",
        "  # conv2 = Conv2D(64, (kernel_size, kernel_size), activation='relu', padding='same')(pool1)          #14 x 14 x 64\n",
        "  # conv2 = BatchNormalization()(conv2)\n",
        "  # conv2 = Conv2D(64, (kernel_size, kernel_size), activation='relu', padding='same')(conv2)\n",
        "  # conv2 = BatchNormalization()(conv2)\n",
        "\n",
        "  # pool2 = MaxPooling2D(pool_size=(2, 2))(conv2) #7 x 7 x 64\n",
        "\n",
        "  # conv3 = Conv2D(128, (kernel_size, kernel_size), activation='relu', padding='same')(pool2)         #7 x 7 x 128 (small & thick)\n",
        "  # conv3 = BatchNormalization()(conv3)\n",
        "  # conv3 = Conv2D(128, (kernel_size, kernel_size), activation='relu', padding='same')(conv3)\n",
        "  # conv3 = BatchNormalization()(conv3)\n",
        "\n",
        "  # conv4 = Conv2D(256, (kernel_size, kernel_size), activation='relu', padding='same')(conv3)         #7 x 7 x 256 (small & thick)\n",
        "  # conv4 = BatchNormalization()(conv4)\n",
        "  # conv4 = Conv2D(256, (kernel_size, kernel_size), activation='relu', padding='same')(conv4)\n",
        "  # conv4 = BatchNormalization()(conv4)\n",
        "\n",
        "  # return conv4\n",
        "\n",
        "def decoderA(code, conv_layers, kernel_size, kernel_num):\n",
        "  #decoder\n",
        "\n",
        "  for layer in range(conv_layers):\n",
        "\n",
        "    if(layer==0):\n",
        "      conv = convLayerMaker(kernel_num*1, kernel_size, 'relu', 'same', code )\n",
        "    \n",
        "    else:\n",
        "      if( (layer % 2) ==0 ):\n",
        "\n",
        "        kernel_num = kernel_num/2\n",
        "\n",
        "        if(layer==(conv_layers-2)):\n",
        "          up = UpSampling2D((2,2))(conv) \n",
        "          conv = convLayerMaker(kernel_num, kernel_size, 'relu', 'same', up)\n",
        "\n",
        "      else:\n",
        "        if(layer==(conv_layers-2)):\n",
        "          up = UpSampling2D((2,2))(conv) \n",
        "          conv = convLayerMaker(kernel_num, kernel_size, 'relu', 'same', up)\n",
        "\n",
        "        else:\n",
        "          conv = convLayerMaker(kernel_num, kernel_size, 'relu', 'same', conv)\n",
        "\n",
        "  up = UpSampling2D((2,2))(conv) #14 x 14 x 64\n",
        "  conv = Conv2D(1, (kernel_size, kernel_size), activation='sigmoid', padding='same')(up)   \n",
        "  return conv\n",
        "\n",
        "  # convi = Conv2D(256, (3, 3), activation='relu', padding='same')(code)         #7 x 7 x 256\n",
        "  # convi = BatchNormalization()(convi)\n",
        "  # convi = Conv2D(256, (3, 3), activation='relu', padding='same')(convi)\n",
        "  # convi = BatchNormalization()(convi)\n",
        "\n",
        "  # conv5 = Conv2D(128, (3, 3), activation='relu', padding='same')(convi)         #7 x 7 x 128\n",
        "  # conv5 = BatchNormalization()(conv5)\n",
        "  # conv5 = Conv2D(128, (3, 3), activation='relu', padding='same')(conv5)\n",
        "  # conv5 = BatchNormalization()(conv5)\n",
        "\n",
        "  # conv6 = Conv2D(64, (3, 3), activation='relu', padding='same')(conv5)          #7 x 7 x 64\n",
        "  # conv6 = BatchNormalization()(conv6)\n",
        "  # conv6 = Conv2D(64, (3, 3), activation='relu', padding='same')(conv6)\n",
        "  # conv6 = BatchNormalization()(conv6)\n",
        "    \n",
        "  # up1 = UpSampling2D((2,2))(conv6) #14 x 14 x 64\n",
        "  \n",
        "  # conv7 = Conv2D(32, (3, 3), activation='relu', padding='same')(up1)            # 14 x 14 x 32\n",
        "  # conv7 = BatchNormalization()(conv7)\n",
        "  # conv7 = Conv2D(32, (3, 3), activation='relu', padding='same')(conv7)\n",
        "  # conv7 = BatchNormalization()(conv7)\n",
        "\n",
        "  # up2 = UpSampling2D((2,2))(conv7) # 28 x 28 x 32\n",
        "  # decoded = Conv2D(1, (3, 3), activation='sigmoid', padding='same')(up2)        # 28 x 28 x 1\n",
        "\n",
        "  # return decoded\n",
        "\n",
        "def createInputImage(x, y, inChannel):\n",
        "\n",
        "  input_img = keras.Input(shape = (x, y, inChannel))\n",
        "  return input_img\n",
        "\n",
        "def initializeModel(input_img, conv_layers, kernel_size, kernel_startnum):\n",
        "  \n",
        "  encoder_kernel = kernel_startnum\n",
        "  decoder_kernel = int(kernel_startnum*pow(2,((conv_layers/4) - 1 )))                    #For example,if we have 16 total Layers => kernel*16/4-1 = kernel*3 = 32*(2^3) = 256\n",
        "\n",
        "  print(encoder_kernel)\n",
        "  print(decoder_kernel)\n",
        "\n",
        "  autoencoder = keras.Model(input_img, decoderA(encoderA(input_img,( int(conv_layers/2)), kernel_size, encoder_kernel), int(conv_layers/2), kernel_size, decoder_kernel ))\n",
        "  autoencoder.compile(loss='mean_squared_error', optimizer =RMSprop())\n",
        "  return autoencoder\n",
        "\n",
        "def trainAutoencoder(x_train, ground_train, x_valid, ground_valid, batch_size, epochs, input_img):\n",
        "\n",
        "  autoencoder.fit(x_train, ground_train, batch_size=batch_size, epochs=epochs, verbose=1, validation_data=(x_valid, ground_valid))\n",
        "\n",
        "def show_error(loss,val_loss, epochs, batch_size, conv_layers, kernel_size, kernel_startnum):\n",
        "\n",
        "  print(\"Epochs:\",epochs)\n",
        "  print(\"Batch size:\", batch_size)\n",
        "  print(\"Convolutional Layers:\", conv_layers)\n",
        "  print(\"Kernel size:\", kernel_size, \"x\" , kernel_size)\n",
        "  print(\"Kernels per layer:\", kernel_startnum )\n",
        "  plt.plot(loss,'r')\n",
        "  plt.plot(val_loss,'b')\n",
        "  plt.title('Model Loss')\n",
        "  plt.ylabel('Loss')\n",
        "  plt.xlabel('Epoch')\n",
        "  plt.legend(['train', 'val'], loc='upper right')\n",
        "  plt.show()"
      ],
      "execution_count": null,
      "outputs": []
    },
    {
      "cell_type": "markdown",
      "metadata": {
        "id": "klvnQleSKL5k"
      },
      "source": [
        "## A.3: Main Program"
      ]
    },
    {
      "cell_type": "code",
      "metadata": {
        "colab": {
          "base_uri": "https://localhost:8080/"
        },
        "id": "_o9ZQ4jNKYfH",
        "outputId": "830fa49f-6cd7-4f07-bd8f-1f8192cada40"
      },
      "source": [
        "# locationDataset = r'/content/train-images-idx3-ubyte'                         #Location to file (.py)\n",
        "# dataset = get_dataset(locationDataset)                                        #From given file (.py)\n",
        "\n",
        "#Hyperparameters\n",
        "epochs            = 20                                                        \n",
        "batch_size        = 128\n",
        "conv_layers       = 10\n",
        "kernel_size       = 3                            \n",
        "kernel_startnum   = 32\n",
        "\n",
        "input_img = createInputImage(28,28,1)\n",
        "dataset = get_mnistDataset()\n",
        "\n",
        "x_train, x_valid, ground_train, ground_valid = split_dataset(dataset)           #Training data must be split into training set and validtion set\n",
        "\n",
        "autoencoder = initializeModel(input_img, conv_layers, kernel_size, kernel_startnum)                                  #Initialize our NN Model\n",
        "autoencoder_train = trainAutoencoder(x_train, ground_train, x_valid, ground_valid, batch_size, epochs, input_img)    #Train our model"
      ],
      "execution_count": null,
      "outputs": [
        {
          "output_type": "stream",
          "text": [
            "32\n",
            "90\n",
            "Epoch 1/20\n",
            "375/375 [==============================] - 5s 14ms/step - loss: 0.0192 - val_loss: 0.0137\n",
            "Epoch 2/20\n",
            "375/375 [==============================] - 5s 14ms/step - loss: 0.0045 - val_loss: 0.0057\n",
            "Epoch 3/20\n",
            "375/375 [==============================] - 5s 13ms/step - loss: 0.0032 - val_loss: 0.0028\n",
            "Epoch 4/20\n",
            "375/375 [==============================] - 5s 13ms/step - loss: 0.0027 - val_loss: 0.0030\n",
            "Epoch 5/20\n",
            "375/375 [==============================] - 5s 13ms/step - loss: 0.0023 - val_loss: 0.0028\n",
            "Epoch 6/20\n",
            "375/375 [==============================] - 5s 13ms/step - loss: 0.0020 - val_loss: 0.0020\n",
            "Epoch 7/20\n",
            "375/375 [==============================] - 5s 13ms/step - loss: 0.0018 - val_loss: 0.0017\n",
            "Epoch 8/20\n",
            "375/375 [==============================] - 5s 13ms/step - loss: 0.0017 - val_loss: 0.0015\n",
            "Epoch 9/20\n",
            "375/375 [==============================] - 5s 13ms/step - loss: 0.0015 - val_loss: 0.0018\n",
            "Epoch 10/20\n",
            "375/375 [==============================] - 5s 13ms/step - loss: 0.0014 - val_loss: 0.0019\n",
            "Epoch 11/20\n",
            "375/375 [==============================] - 5s 13ms/step - loss: 0.0013 - val_loss: 0.0015\n",
            "Epoch 12/20\n",
            "375/375 [==============================] - 5s 13ms/step - loss: 0.0013 - val_loss: 0.0013\n",
            "Epoch 13/20\n",
            "375/375 [==============================] - 5s 13ms/step - loss: 0.0012 - val_loss: 0.0011\n",
            "Epoch 14/20\n",
            "375/375 [==============================] - 5s 14ms/step - loss: 0.0011 - val_loss: 0.0012\n",
            "Epoch 15/20\n",
            "375/375 [==============================] - 5s 13ms/step - loss: 0.0011 - val_loss: 0.0013\n",
            "Epoch 16/20\n",
            "375/375 [==============================] - 5s 13ms/step - loss: 0.0010 - val_loss: 0.0012\n",
            "Epoch 17/20\n",
            "375/375 [==============================] - 5s 13ms/step - loss: 9.8519e-04 - val_loss: 9.3984e-04\n",
            "Epoch 18/20\n",
            "375/375 [==============================] - 5s 13ms/step - loss: 9.4369e-04 - val_loss: 9.0126e-04\n",
            "Epoch 19/20\n",
            "375/375 [==============================] - 5s 13ms/step - loss: 9.0635e-04 - val_loss: 7.5959e-04\n",
            "Epoch 20/20\n",
            "375/375 [==============================] - 5s 13ms/step - loss: 8.8976e-04 - val_loss: 7.7208e-04\n"
          ],
          "name": "stdout"
        }
      ]
    },
    {
      "cell_type": "code",
      "metadata": {
        "colab": {
          "base_uri": "https://localhost:8080/",
          "height": 383
        },
        "id": "Wq0lY_TcewmR",
        "outputId": "f8a98150-e1ad-41dc-ccbd-f1a45b1c37ac"
      },
      "source": [
        "loss      = autoencoder.history.history['loss']\n",
        "val_loss  = autoencoder.history.history['val_loss']\n",
        "show_error(loss,val_loss, epochs, batch_size, conv_layers, kernel_size, kernel_startnum)"
      ],
      "execution_count": 4,
      "outputs": [
        {
          "output_type": "stream",
          "text": [
            "Epochs: 20\n",
            "Batch size: 128\n",
            "Convolutional Layers: 10\n",
            "Kernel size: 3 x 3\n",
            "Kernels per layer: 32\n"
          ],
          "name": "stdout"
        },
        {
          "output_type": "display_data",
          "data": {
            "image/png": "[encoded data removed]",
            "text/plain": [
              "<Figure size 432x288 with 1 Axes>"
            ]
          },
          "metadata": {
            "tags": [],
            "needs_background": "light"
          }
        }
      ]
    },
    {
      "cell_type": "markdown",
      "metadata": {
        "id": "kzH64xZngoGw"
      },
      "source": [
        "##A.4: Saving the model"
      ]
    },
    {
      "cell_type": "code",
      "metadata": {
        "id": "RuygBSOcgnPC"
      },
      "source": [
        "autoencoder.save('autoencoder.h5')\n",
        "autoencoder.save_weights('autoencoder_weights.h5')"
      ],
      "execution_count": 6,
      "outputs": []
    },
    {
      "cell_type": "markdown",
      "metadata": {
        "id": "3b6fpe5UZzk1"
      },
      "source": [
        "# B.1: Useful Libraries and frameworks"
      ]
    },
    {
      "cell_type": "code",
      "metadata": {
        "id": "etC1Yhr3Z5uy"
      },
      "source": [
        "import sys\n",
        "import keras\n",
        "from keras import layers\n",
        "from keras.layers import Dense, Dropout, Activation, Flatten, MaxPooling2D, UpSampling2D, BatchNormalization, Conv2D\n",
        "from keras.optimizers import RMSprop\n",
        "from keras.models import load_model\n",
        "from keras.utils import np_utils\n",
        "\n",
        "import numpy as np\n",
        "import pandas as pd\n",
        "import matplotlib.pyplot as plt\n",
        "\n",
        "from sklearn.model_selection import train_test_split"
      ],
      "execution_count": 7,
      "outputs": []
    },
    {
      "cell_type": "markdown",
      "metadata": {
        "id": "wiDZww8mZ-FS"
      },
      "source": [
        "# B.2 Useful functions"
      ]
    },
    {
      "cell_type": "markdown",
      "metadata": {
        "id": "b_DifngdaAO5"
      },
      "source": [
        "## B.2.1 Function to read argumnents from command line for hyperparameters values."
      ]
    },
    {
      "cell_type": "code",
      "metadata": {
        "id": "-zeXl-2AaFEq"
      },
      "source": [
        "def get_arguments():                    #function to get command line arguments regarding dataset folder \n",
        "    training_dataset = \"\"\n",
        "    training_labels = \"\"\n",
        "    test_dataset = \"\"\n",
        "    test_labels = \"\"\n",
        "    model = \"\"\n",
        "\n",
        "    if len(sys.argv) != 6:\n",
        "        print(\"Please re-run with correct arguments.\")\n",
        "        sys.exit()\n",
        "\n",
        "    for i in range(len(sys.argv)):\n",
        "        if sys.argv[i] == \"-d\":\n",
        "            training_dataset = sys.argv[i+1]\n",
        "        elif sys.argv[i] == \"-dl\":\n",
        "            training_labels = sys.argv[i + 1]\n",
        "        elif sys.argv[i] == \"-t\":\n",
        "            test_dataset = sys.argv[i + 1]\n",
        "        elif sys.argv[i] == \"-tl\":\n",
        "            test_labels = sys.argv[i + 1]\n",
        "        elif sys.argv[i] == \"-model\":\n",
        "            model = sys.argv[i + 1]\n",
        "    return trainind_dataset, training_labels, test_dataset, test_labels, model"
      ],
      "execution_count": 8,
      "outputs": []
    },
    {
      "cell_type": "code",
      "metadata": {
        "id": "H67uhwypaBkj"
      },
      "source": [
        "def get_hyperparameters():\n",
        "\n",
        "  filters = \"\"\n",
        "  filter_size = \"\"\n",
        "  layers = \"\"\n",
        "  epochs = \"\"\n",
        "  batch_size = \"\"\n",
        "  fc = \"\"\n",
        "\n",
        "  for i in range(len(sys.argv)):\n",
        "    if sys.argv[i] == \"-fc\":\n",
        "        fc = sys.argv[i+1]\n",
        "    elif sys.argv[i] == \"-f\":\n",
        "        filters = sys.argv[i + 1]\n",
        "    elif sys.argv[i] == \"-s\":\n",
        "        filter_size = sys.argv[i + 1]\n",
        "    elif sys.argv[i] == \"-l\":\n",
        "        layers = sys.argv[i + 1]\n",
        "    elif sys.argv[i] == \"-e\":\n",
        "        epochs = sys.argv[i + 1]\n",
        "    elif sys.argv[i] == \"-b\":\n",
        "        batch_size = sys.argv[i + 1]\n",
        "\n",
        "  return filters, filter_size, layers, epochs, batch_size, fc"
      ],
      "execution_count": 9,
      "outputs": []
    },
    {
      "cell_type": "markdown",
      "metadata": {
        "id": "cSoeFwsVaUxz"
      },
      "source": [
        "# B.2.4 Define fully connected layers "
      ]
    },
    {
      "cell_type": "code",
      "metadata": {
        "id": "Llf-2SwWaXYb"
      },
      "source": [
        "def fc(encoded,num, num_classes):\n",
        "    flat = Flatten()(encoded)\n",
        "    den = Dense(num, activation='relu')(flat)\n",
        "    out = Dense(num_classes, activation='softmax')(den)\n",
        "    return out"
      ],
      "execution_count": 10,
      "outputs": []
    },
    {
      "cell_type": "markdown",
      "metadata": {
        "id": "MOJ-qnXEaoJN"
      },
      "source": [
        "# B.4 Load train and test data"
      ]
    },
    {
      "cell_type": "code",
      "metadata": {
        "id": "6pz-Ensvar1a"
      },
      "source": [
        "from keras.datasets import mnist\n",
        "\n",
        "(x_train, train_labels), (x_test, test_labels) = mnist.load_data()     #get_arguments() \n",
        "\n",
        "x_train = x_train.reshape(-1, 28, 28, 1)\n",
        "x_test = x_test.reshape(-1, 28, 28, 1)\n",
        "x_train = x_train.astype('float32') / 255.\n",
        "x_test = x_test.astype('float32') / 255."
      ],
      "execution_count": 11,
      "outputs": []
    },
    {
      "cell_type": "markdown",
      "metadata": {
        "id": "b8RYOaYrbUdy"
      },
      "source": [
        "# B.8 Convert labels into one-hot encoding vectors\n",
        "one-hot encoding is used to convert the categorical data into a vectror of numbers and it is necessary because machine learning algorithms cannot work with categorical data directly"
      ]
    },
    {
      "cell_type": "code",
      "metadata": {
        "id": "7zCCFDVmbW-T"
      },
      "source": [
        "n_classes = 10          #maybe make classes a hyperparameter\n",
        "y_train = np_utils.to_categorical(train_labels, n_classes)          \n",
        "y_test = np_utils.to_categorical(test_labels, n_classes) "
      ],
      "execution_count": 12,
      "outputs": []
    },
    {
      "cell_type": "markdown",
      "metadata": {
        "id": "C59PjhR_bdKT"
      },
      "source": [
        "# B.9 Split data to training and validation for classification"
      ]
    },
    {
      "cell_type": "code",
      "metadata": {
        "id": "tkGLyK7CbgRq"
      },
      "source": [
        "train_X,valid_X,train_label,valid_label = train_test_split(x_train ,y_train,test_size=0.2,random_state=13)"
      ],
      "execution_count": 13,
      "outputs": []
    },
    {
      "cell_type": "markdown",
      "metadata": {
        "id": "ZZLNcGgSbvq1"
      },
      "source": [
        "# B.10 Classification Model"
      ]
    },
    {
      "cell_type": "code",
      "metadata": {
        "colab": {
          "base_uri": "https://localhost:8080/"
        },
        "id": "yHVWGGkWb1YT",
        "outputId": "07088576-a7d5-4c17-f2c7-8189b405302b"
      },
      "source": [
        "# encode = encoder(input_img)\n",
        "encode = encoderA(input_img, int(conv_layers/2), kernel_size, kernel_startnum)\n",
        "\n",
        "encoder_kernel = kernel_startnum\n",
        "decoder_kernel = int(kernel_startnum*pow(2,((conv_layers/4) - 1 )))\n",
        "autoencoderb = keras.Model(input_img, decoderA(encoderA(input_img,( int(conv_layers/2)), kernel_size, encoder_kernel), int(conv_layers/2), kernel_size, decoder_kernel ))\n",
        "\n",
        "# encoderA(input_img,( int(conv_layers/2)), kernel_size, encoder_kernel)\n",
        "\n",
        "full_model = keras.Model(input_img,fc(encode, 256, 10))\n",
        "\n",
        "# autoencoderb = load_model('/content/autoencoder.h5')\n",
        "autoencoderb.load_weights('autoencoder_weights.h5')\n",
        "\n",
        "# print(autoencoderb.get_weights()[0][1])\n",
        "\n",
        "for l1,l2 in zip(full_model.layers[:conv_layers],autoencoderb.layers[0:conv_layers]):\n",
        "    l1.set_weights(l2.get_weights())\n",
        "\n",
        "for layer in full_model.layers[0:conv_layers]:                                  #this model is already trained, so we won't train it again\n",
        "    layer.trainable = False\n",
        "\n",
        "full_model.compile(loss=keras.losses.categorical_crossentropy, optimizer=keras.optimizers.Adam(),metrics=['accuracy'])\n",
        "\n",
        "full_model.summary()"
      ],
      "execution_count": 14,
      "outputs": [
        {
          "output_type": "stream",
          "text": [
            "Model: \"functional_5\"\n",
            "_________________________________________________________________\n",
            "Layer (type)                 Output Shape              Param #   \n",
            "=================================================================\n",
            "input_1 (InputLayer)         [(None, 28, 28, 1)]       0         \n",
            "_________________________________________________________________\n",
            "conv2d_9 (Conv2D)            (None, 28, 28, 32)        320       \n",
            "_________________________________________________________________\n",
            "batch_normalization_8 (Batch (None, 28, 28, 32)        128       \n",
            "_________________________________________________________________\n",
            "conv2d_10 (Conv2D)           (None, 28, 28, 32)        9248      \n",
            "_________________________________________________________________\n",
            "batch_normalization_9 (Batch (None, 28, 28, 32)        128       \n",
            "_________________________________________________________________\n",
            "max_pooling2d_2 (MaxPooling2 (None, 14, 14, 32)        0         \n",
            "_________________________________________________________________\n",
            "conv2d_11 (Conv2D)           (None, 14, 14, 64)        18496     \n",
            "_________________________________________________________________\n",
            "batch_normalization_10 (Batc (None, 14, 14, 64)        256       \n",
            "_________________________________________________________________\n",
            "conv2d_12 (Conv2D)           (None, 14, 14, 64)        36928     \n",
            "_________________________________________________________________\n",
            "batch_normalization_11 (Batc (None, 14, 14, 64)        256       \n",
            "_________________________________________________________________\n",
            "max_pooling2d_3 (MaxPooling2 (None, 7, 7, 64)          0         \n",
            "_________________________________________________________________\n",
            "conv2d_13 (Conv2D)           (None, 7, 7, 128)         73856     \n",
            "_________________________________________________________________\n",
            "batch_normalization_12 (Batc (None, 7, 7, 128)         512       \n",
            "_________________________________________________________________\n",
            "flatten (Flatten)            (None, 6272)              0         \n",
            "_________________________________________________________________\n",
            "dense (Dense)                (None, 256)               1605888   \n",
            "_________________________________________________________________\n",
            "dense_1 (Dense)              (None, 10)                2570      \n",
            "=================================================================\n",
            "Total params: 1,748,586\n",
            "Trainable params: 1,682,570\n",
            "Non-trainable params: 66,016\n",
            "_________________________________________________________________\n"
          ],
          "name": "stdout"
        }
      ]
    },
    {
      "cell_type": "markdown",
      "metadata": {
        "id": "0dQ-nOzzb4k1"
      },
      "source": [
        "# B.11 Train and save classification model"
      ]
    },
    {
      "cell_type": "code",
      "metadata": {
        "colab": {
          "base_uri": "https://localhost:8080/"
        },
        "id": "Rm7f2HWocYDO",
        "outputId": "d3718b47-e617-4d8c-c4e5-55db56c46a17"
      },
      "source": [
        "classify_train = full_model.fit(train_X, train_label, batch_size=batch_size ,epochs=epochs ,verbose=1,validation_data=(valid_X, valid_label))\n",
        "\n",
        "full_model.save_weights('autoencoder_classification.h5')\n",
        "\n",
        "for layer in full_model.layers[0:conv_layers]:         #retrain the entire model this time\n",
        "    layer.trainable = True\n",
        "\n",
        "full_model.compile(loss=keras.losses.categorical_crossentropy, optimizer=keras.optimizers.Adam(),metrics=['accuracy'])\n",
        "\n",
        "classify_train = full_model.fit(train_X, train_label, batch_size=batch_size,epochs=epochs,verbose=1,validation_data=(valid_X, valid_label))\n",
        "\n",
        "full_model.save_weights('classification_complete.h5')"
      ],
      "execution_count": 15,
      "outputs": [
        {
          "output_type": "stream",
          "text": [
            "Epoch 1/20\n",
            "375/375 [==============================] - 3s 7ms/step - loss: 0.1426 - accuracy: 0.9576 - val_loss: 0.1001 - val_accuracy: 0.9701\n",
            "Epoch 2/20\n",
            "375/375 [==============================] - 2s 7ms/step - loss: 0.0445 - accuracy: 0.9858 - val_loss: 0.0726 - val_accuracy: 0.9780\n",
            "Epoch 3/20\n",
            "375/375 [==============================] - 2s 6ms/step - loss: 0.0239 - accuracy: 0.9923 - val_loss: 0.0606 - val_accuracy: 0.9833\n",
            "Epoch 4/20\n",
            "375/375 [==============================] - 2s 7ms/step - loss: 0.0196 - accuracy: 0.9934 - val_loss: 0.0732 - val_accuracy: 0.9805\n",
            "Epoch 5/20\n",
            "375/375 [==============================] - 2s 7ms/step - loss: 0.0159 - accuracy: 0.9948 - val_loss: 0.0624 - val_accuracy: 0.9845\n",
            "Epoch 6/20\n",
            "375/375 [==============================] - 2s 7ms/step - loss: 0.0166 - accuracy: 0.9949 - val_loss: 0.0896 - val_accuracy: 0.9774\n",
            "Epoch 7/20\n",
            "375/375 [==============================] - 2s 7ms/step - loss: 0.0135 - accuracy: 0.9958 - val_loss: 0.0910 - val_accuracy: 0.9808\n",
            "Epoch 8/20\n",
            "375/375 [==============================] - 2s 7ms/step - loss: 0.0130 - accuracy: 0.9956 - val_loss: 0.0999 - val_accuracy: 0.9797\n",
            "Epoch 9/20\n",
            "375/375 [==============================] - 2s 7ms/step - loss: 0.0112 - accuracy: 0.9966 - val_loss: 0.0808 - val_accuracy: 0.9817\n",
            "Epoch 10/20\n",
            "375/375 [==============================] - 2s 7ms/step - loss: 0.0104 - accuracy: 0.9963 - val_loss: 0.0846 - val_accuracy: 0.9833\n",
            "Epoch 11/20\n",
            "375/375 [==============================] - 2s 7ms/step - loss: 0.0097 - accuracy: 0.9969 - val_loss: 0.0725 - val_accuracy: 0.9877\n",
            "Epoch 12/20\n",
            "375/375 [==============================] - 2s 7ms/step - loss: 0.0068 - accuracy: 0.9977 - val_loss: 0.0665 - val_accuracy: 0.9864\n",
            "Epoch 13/20\n",
            "375/375 [==============================] - 2s 7ms/step - loss: 0.0072 - accuracy: 0.9978 - val_loss: 0.0787 - val_accuracy: 0.9843\n",
            "Epoch 14/20\n",
            "375/375 [==============================] - 2s 7ms/step - loss: 0.0111 - accuracy: 0.9967 - val_loss: 0.0912 - val_accuracy: 0.9835\n",
            "Epoch 15/20\n",
            "375/375 [==============================] - 2s 7ms/step - loss: 0.0095 - accuracy: 0.9972 - val_loss: 0.0962 - val_accuracy: 0.9825\n",
            "Epoch 16/20\n",
            "375/375 [==============================] - 2s 7ms/step - loss: 0.0077 - accuracy: 0.9976 - val_loss: 0.0715 - val_accuracy: 0.9866\n",
            "Epoch 17/20\n",
            "375/375 [==============================] - 2s 7ms/step - loss: 0.0043 - accuracy: 0.9987 - val_loss: 0.0692 - val_accuracy: 0.9869\n",
            "Epoch 18/20\n",
            "375/375 [==============================] - 2s 7ms/step - loss: 0.0037 - accuracy: 0.9990 - val_loss: 0.0843 - val_accuracy: 0.9866\n",
            "Epoch 19/20\n",
            "375/375 [==============================] - 2s 7ms/step - loss: 0.0093 - accuracy: 0.9973 - val_loss: 0.0804 - val_accuracy: 0.9868\n",
            "Epoch 20/20\n",
            "375/375 [==============================] - 2s 7ms/step - loss: 0.0095 - accuracy: 0.9975 - val_loss: 0.0904 - val_accuracy: 0.9849\n",
            "Epoch 1/20\n",
            "375/375 [==============================] - 5s 13ms/step - loss: 0.0118 - accuracy: 0.9968 - val_loss: 0.1306 - val_accuracy: 0.9839\n",
            "Epoch 2/20\n",
            "375/375 [==============================] - 5s 12ms/step - loss: 0.0090 - accuracy: 0.9974 - val_loss: 0.0922 - val_accuracy: 0.9860\n",
            "Epoch 3/20\n",
            "375/375 [==============================] - 5s 12ms/step - loss: 0.0123 - accuracy: 0.9970 - val_loss: 0.0985 - val_accuracy: 0.9858\n",
            "Epoch 4/20\n",
            "375/375 [==============================] - 5s 12ms/step - loss: 0.0090 - accuracy: 0.9976 - val_loss: 0.0792 - val_accuracy: 0.9893\n",
            "Epoch 5/20\n",
            "375/375 [==============================] - 5s 12ms/step - loss: 0.0049 - accuracy: 0.9986 - val_loss: 0.0977 - val_accuracy: 0.9867\n",
            "Epoch 6/20\n",
            "375/375 [==============================] - 5s 12ms/step - loss: 0.0073 - accuracy: 0.9983 - val_loss: 0.0843 - val_accuracy: 0.9890\n",
            "Epoch 7/20\n",
            "375/375 [==============================] - 5s 12ms/step - loss: 0.0095 - accuracy: 0.9977 - val_loss: 0.1174 - val_accuracy: 0.9820\n",
            "Epoch 8/20\n",
            "375/375 [==============================] - 5s 12ms/step - loss: 0.0081 - accuracy: 0.9979 - val_loss: 0.0812 - val_accuracy: 0.9889\n",
            "Epoch 9/20\n",
            "375/375 [==============================] - 5s 12ms/step - loss: 0.0038 - accuracy: 0.9991 - val_loss: 0.0657 - val_accuracy: 0.9900\n",
            "Epoch 10/20\n",
            "375/375 [==============================] - 5s 12ms/step - loss: 0.0027 - accuracy: 0.9992 - val_loss: 0.0726 - val_accuracy: 0.9892\n",
            "Epoch 11/20\n",
            "375/375 [==============================] - 5s 12ms/step - loss: 0.0046 - accuracy: 0.9988 - val_loss: 0.0787 - val_accuracy: 0.9906\n",
            "Epoch 12/20\n",
            "375/375 [==============================] - 5s 12ms/step - loss: 0.0077 - accuracy: 0.9982 - val_loss: 0.0897 - val_accuracy: 0.9895\n",
            "Epoch 13/20\n",
            "375/375 [==============================] - 5s 13ms/step - loss: 0.0067 - accuracy: 0.9981 - val_loss: 0.0957 - val_accuracy: 0.9884\n",
            "Epoch 14/20\n",
            "375/375 [==============================] - 5s 13ms/step - loss: 0.0049 - accuracy: 0.9988 - val_loss: 0.0971 - val_accuracy: 0.9893\n",
            "Epoch 15/20\n",
            "375/375 [==============================] - 5s 12ms/step - loss: 0.0040 - accuracy: 0.9989 - val_loss: 0.1064 - val_accuracy: 0.9896\n",
            "Epoch 16/20\n",
            "375/375 [==============================] - 5s 12ms/step - loss: 0.0043 - accuracy: 0.9990 - val_loss: 0.0845 - val_accuracy: 0.9906\n",
            "Epoch 17/20\n",
            "375/375 [==============================] - 5s 12ms/step - loss: 0.0029 - accuracy: 0.9994 - val_loss: 0.0773 - val_accuracy: 0.9894\n",
            "Epoch 18/20\n",
            "375/375 [==============================] - 5s 12ms/step - loss: 0.0036 - accuracy: 0.9991 - val_loss: 0.0810 - val_accuracy: 0.9907\n",
            "Epoch 19/20\n",
            "375/375 [==============================] - 5s 12ms/step - loss: 0.0011 - accuracy: 0.9997 - val_loss: 0.0742 - val_accuracy: 0.9912\n",
            "Epoch 20/20\n",
            "375/375 [==============================] - 5s 12ms/step - loss: 0.0050 - accuracy: 0.9989 - val_loss: 0.0913 - val_accuracy: 0.9883\n"
          ],
          "name": "stdout"
        }
      ]
    },
    {
      "cell_type": "code",
      "metadata": {
        "colab": {
          "base_uri": "https://localhost:8080/",
          "height": 544
        },
        "id": "YkhX2g-PApoK",
        "outputId": "e1f35400-cf50-4ea1-b7e6-47e5d8ab0044"
      },
      "source": [
        "#this was supposed to help us find out if there is overfitting by showing us the loss between validation and training - MAYBE DELETE?\n",
        "\n",
        "accuracy = classify_train.history['accuracy']\n",
        "val_accuracy = classify_train.history['val_accuracy']\n",
        "loss = classify_train.history['loss']\n",
        "val_loss = classify_train.history['val_loss']\n",
        "epoches = range(len(accuracy))\n",
        "plt.plot(epoches, accuracy, 'bo', label='Training accuracy')\n",
        "plt.plot(epoches, val_accuracy, 'b', label='Validation accuracy')\n",
        "plt.title('Training and validation accuracy')\n",
        "plt.legend()\n",
        "plt.figure()\n",
        "plt.plot(epoches, loss, 'bo', label='Training loss')\n",
        "plt.plot(epoches, val_loss, 'b', label='Validation loss')\n",
        "plt.title('Training and validation loss')\n",
        "plt.legend()\n",
        "plt.show()\n",
        "\n"
      ],
      "execution_count": 16,
      "outputs": [
        {
          "output_type": "display_data",
          "data": {
            "image/png": "[encoded data removed]",
            "text/plain": [
              "<Figure size 432x288 with 1 Axes>"
            ]
          },
          "metadata": {
            "tags": [],
            "needs_background": "light"
          }
        },
        {
          "output_type": "display_data",
          "data": {
            "image/png": "[encoded data removed]",
            "text/plain": [
              "<Figure size 432x288 with 1 Axes>"
            ]
          },
          "metadata": {
            "tags": [],
            "needs_background": "light"
          }
        }
      ]
    },
    {
      "cell_type": "markdown",
      "metadata": {
        "id": "JyEBf2CLcz5B"
      },
      "source": [
        "# B.12 Evaluate Model"
      ]
    },
    {
      "cell_type": "code",
      "metadata": {
        "colab": {
          "base_uri": "https://localhost:8080/"
        },
        "id": "OPaoJR17c2Cn",
        "outputId": "abdb1f0a-4ead-42c2-e4a1-df26b5271f1c"
      },
      "source": [
        "test_eval = full_model.evaluate(x_test, y_test, verbose=0)\n",
        "\n",
        "print('Test loss:', test_eval[0])\n",
        "print('Test accuracy:', test_eval[1])"
      ],
      "execution_count": 17,
      "outputs": [
        {
          "output_type": "stream",
          "text": [
            "Test loss: 0.09954018145799637\n",
            "Test accuracy: 0.9891999959945679\n"
          ],
          "name": "stdout"
        }
      ]
    },
    {
      "cell_type": "markdown",
      "metadata": {
        "id": "bL3U_C8tdBKx"
      },
      "source": [
        "# B.13 Predict Labels"
      ]
    },
    {
      "cell_type": "markdown",
      "metadata": {
        "id": "USnnC4kYdhGY"
      },
      "source": [
        "B.13.1 Correct predictions"
      ]
    },
    {
      "cell_type": "code",
      "metadata": {
        "colab": {
          "base_uri": "https://localhost:8080/",
          "height": 314
        },
        "id": "Bu_LYerPdFQZ",
        "outputId": "d42873ea-e497-4a71-f937-ab429c961ea1"
      },
      "source": [
        "predicted_classes = full_model.predict(x_test)\n",
        "\n",
        "predicted_classes = np.argmax(np.round(predicted_classes),axis=1)\n",
        "# fig, axis = plt.subplots(4, 4, figsize=(12, 14))\n",
        "correct = np.where(predicted_classes==test_labels)[0]\n",
        "print(\"Correct labels found: \", len(correct))\n",
        "for i, correct in enumerate(correct[:9]):\n",
        "    plt.subplot(3,3,i+1)\n",
        "    plt.imshow(x_test[correct].reshape(28,28), cmap='binary')\n",
        "    plt.title(\"Predicted {}, Class {}\".format(predicted_classes[correct], test_labels[correct]))\n",
        "    plt.tight_layout()"
      ],
      "execution_count": 18,
      "outputs": [
        {
          "output_type": "stream",
          "text": [
            "Correct labels found:  9892\n"
          ],
          "name": "stdout"
        },
        {
          "output_type": "display_data",
          "data": {
            "image/png": "[encoded data removed]",
            "text/plain": [
              "<Figure size 432x288 with 9 Axes>"
            ]
          },
          "metadata": {
            "tags": [],
            "needs_background": "light"
          }
        }
      ]
    },
    {
      "cell_type": "markdown",
      "metadata": {
        "id": "geAsdCfJdlhh"
      },
      "source": [
        "B.13.2 Incorrent Predictions"
      ]
    },
    {
      "cell_type": "code",
      "metadata": {
        "id": "R047U4Pa90PY",
        "colab": {
          "base_uri": "https://localhost:8080/",
          "height": 314
        },
        "outputId": "a05e644c-4683-4364-f1a6-ff387bb05307"
      },
      "source": [
        "  incorrect = np.where(predicted_classes!=test_labels)[0]\n",
        "  print(\"Incorrect labels found: \", len(incorrect))\n",
        "  for i, incorrect in enumerate(incorrect[:9]):\n",
        "    plt.subplot(3,3,i+1)\n",
        "    plt.imshow(x_test[incorrect].reshape(28,28), cmap='binary')\n",
        "    plt.title(\"Predicted {}, Class {}\".format(predicted_classes[incorrect], test_labels[incorrect]))\n",
        "    plt.tight_layout()"
      ],
      "execution_count": 19,
      "outputs": [
        {
          "output_type": "stream",
          "text": [
            "Incorrect labels found:  108\n"
          ],
          "name": "stdout"
        },
        {
          "output_type": "display_data",
          "data": {
            "image/png": "[encoded data removed]",
            "text/plain": [
              "<Figure size 432x288 with 9 Axes>"
            ]
          },
          "metadata": {
            "tags": [],
            "needs_background": "light"
          }
        }
      ]
    },
    {
      "cell_type": "markdown",
      "metadata": {
        "id": "oEsz-V-kd3yo"
      },
      "source": [
        "B.13.2 Classification Report"
      ]
    },
    {
      "cell_type": "code",
      "metadata": {
        "id": "c9CbuwILd_Cx",
        "colab": {
          "base_uri": "https://localhost:8080/"
        },
        "outputId": "03ec3dca-cacb-4e0c-da9c-3cd6374bdd58"
      },
      "source": [
        "from sklearn.metrics import classification_report\n",
        "num_classes = 10\n",
        "target_names = [\"Class {}\".format(i) for i in range(num_classes)]\n",
        "print(classification_report(test_labels, predicted_classes, target_names=target_names))"
      ],
      "execution_count": 20,
      "outputs": [
        {
          "output_type": "stream",
          "text": [
            "              precision    recall  f1-score   support\n",
            "\n",
            "     Class 0       0.99      0.99      0.99       980\n",
            "     Class 1       0.99      1.00      1.00      1135\n",
            "     Class 2       1.00      0.99      0.99      1032\n",
            "     Class 3       0.99      0.98      0.99      1010\n",
            "     Class 4       0.99      0.99      0.99       982\n",
            "     Class 5       0.98      1.00      0.99       892\n",
            "     Class 6       0.99      0.99      0.99       958\n",
            "     Class 7       0.97      1.00      0.99      1028\n",
            "     Class 8       0.99      0.99      0.99       974\n",
            "     Class 9       0.99      0.97      0.98      1009\n",
            "\n",
            "    accuracy                           0.99     10000\n",
            "   macro avg       0.99      0.99      0.99     10000\n",
            "weighted avg       0.99      0.99      0.99     10000\n",
            "\n"
          ],
          "name": "stdout"
        }
      ]
    }
  ]
}